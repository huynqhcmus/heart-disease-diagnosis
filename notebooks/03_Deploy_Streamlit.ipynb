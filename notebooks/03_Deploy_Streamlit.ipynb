{
 "cells": [
  {
   "cell_type": "markdown",
   "metadata": {
    "id": "245636c9"
   },
   "source": [
    "## 1. Create streamlit app\n",
    "\n"
   ]
  },
  {
   "cell_type": "code",
   "execution_count": 11,
   "metadata": {
    "colab": {
     "base_uri": "https://localhost:8080/"
    },
    "executionInfo": {
     "elapsed": 42,
     "status": "ok",
     "timestamp": 1758259394362,
     "user": {
      "displayName": "AIO",
      "userId": "08245194604912763444"
     },
     "user_tz": -420
    },
    "id": "e429e302",
    "outputId": "1b9b398d-7579-4ba9-ed94-dee04b4f05f0"
   },
   "outputs": [
    {
     "name": "stdout",
     "output_type": "stream",
     "text": [
      "Overwriting app.py\n"
     ]
    }
   ],
   "source": [
    "%%writefile app.py\n",
    "import streamlit as st\n",
    "import pandas as pd\n",
    "from sklearn.model_selection import GridSearchCV\n",
    "from sklearn.preprocessing import OneHotEncoder\n",
    "from sklearn.compose import ColumnTransformer\n",
    "from sklearn.pipeline import Pipeline\n",
    "from sklearn.impute import SimpleImputer\n",
    "from sklearn.tree import DecisionTreeClassifier, plot_tree\n",
    "import matplotlib.pyplot as plt\n",
    "\n",
    "st.set_page_config(page_title=\"Heart Disease Prediction\", layout=\"wide\")\n",
    "st.title(\"❤️ Heart Disease Prediction App\")\n",
    "\n",
    "URL = \"https://archive.ics.uci.edu/ml/machine-learning-databases/heart-disease/processed.cleveland.data\"\n",
    "COLUMNS = ['age','sex','cp','trestbps','chol','fbs','restecg',\n",
    "           'thalach','exang','oldpeak','slope','ca','thal','target']\n",
    "NUMERIC = ['age','trestbps','chol','thalach','oldpeak']\n",
    "CATEGORICAL = ['sex','cp','fbs','restecg','exang','slope','ca','thal']\n",
    "\n",
    "@st.cache_resource\n",
    "def find_best_model():\n",
    "    df = pd.read_csv(URL, header=None, names=COLUMNS, na_values='?')\n",
    "    df = df.dropna()\n",
    "    df['target'] = (df['target'] > 0).astype(int)\n",
    "\n",
    "    X = df[NUMERIC + CATEGORICAL]\n",
    "    y = df['target']\n",
    "\n",
    "    num_pipe = Pipeline([(\"imputer\", SimpleImputer(strategy=\"median\"))])\n",
    "    cat_pipe = Pipeline([\n",
    "        (\"imputer\", SimpleImputer(strategy=\"most_frequent\")),\n",
    "        (\"ohe\", OneHotEncoder(handle_unknown=\"ignore\", sparse_output=False))\n",
    "    ])\n",
    "\n",
    "    preprocessor = ColumnTransformer([\n",
    "        (\"num\", num_pipe, NUMERIC),\n",
    "        (\"cat\", cat_pipe, CATEGORICAL)\n",
    "    ])\n",
    "\n",
    "    pipeline = Pipeline([\n",
    "        (\"preprocessor\", preprocessor),\n",
    "        (\"classifier\", DecisionTreeClassifier(random_state=42))\n",
    "    ])\n",
    "\n",
    "    ### YOUR CODE HERE ###\n",
    "    param_grid = {\n",
    "        'classifier__max_depth': [3, 5, 7, 10, None],\n",
    "        'classifier__min_samples_split': [2, 5, 10],\n",
    "        'classifier__min_samples_leaf': [1, 2, 4]\n",
    "    }\n",
    "    \n",
    "    grid_search = GridSearchCV(\n",
    "        pipeline, param_grid, cv=5, scoring='accuracy', n_jobs=-1\n",
    "    )\n",
    "    grid_search.fit(X, y)\n",
    "\n",
    "    ######################\n",
    "    return grid_search\n",
    "\n",
    "with st.sidebar.form(\"input_form\"):\n",
    "    st.header(\"Patient Parameters\")\n",
    "    age = st.slider('Age', 20, 90, 50)\n",
    "    trestbps = st.slider('Resting Blood Pressure (mmHg)', 90, 220, 120)\n",
    "    chol = st.slider('Serum Cholesterol (mg/dl)', 120, 600, 240)\n",
    "    thalach = st.slider('Max Heart Rate Achieved', 70, 210, 150)\n",
    "    oldpeak = st.slider('ST Depression', 0.0, 8.0, 1.0, step=0.1)\n",
    "    ca = st.slider('Major Vessels colored by Fluoroscopy', 0, 3, 0)\n",
    "\n",
    "    sex = st.selectbox('Gender', [('Male', 1), ('Female', 0)],\n",
    "                       format_func=lambda x: x[0])[1]\n",
    "    cp = st.selectbox('Chest Pain Type', [\n",
    "        ('Typical Angina', 1), ('Atypical Angina', 2),\n",
    "        ('Non-anginal Pain', 3), ('Asymptomatic', 4)],\n",
    "        format_func=lambda x: x[0])[1]\n",
    "    fbs = st.selectbox('Fasting Blood Sugar > 120 mg/dl',\n",
    "                       [('False', 0), ('True', 1)],\n",
    "                       format_func=lambda x: x[0])[1]\n",
    "    restecg = st.selectbox('Resting ECG', [\n",
    "        ('Normal', 0), ('ST-T Abnormality', 1), ('LV Hypertrophy', 2)],\n",
    "        format_func=lambda x: x[0])[1]\n",
    "\n",
    "    exang = st.selectbox('Exercise-induced Angina', [('No', 0), ('Yes', 1)],\n",
    "                         format_func=lambda x: x[0])[1]\n",
    "\n",
    "    slope = st.selectbox('Slope of Peak ST', [\n",
    "        ('Upsloping', 1), ('Flat', 2), ('Downsloping', 3)],\n",
    "        format_func=lambda x: x[0])[1]\n",
    "    thal = st.selectbox('Thalassemia', [\n",
    "        ('Normal', 3), ('Fixed Defect', 6), ('Reversible Defect', 7)],\n",
    "        format_func=lambda x: x[0])[1]\n",
    "    submitted = st.form_submit_button(\"Predict\")\n",
    "\n",
    "model = find_best_model()\n",
    "\n",
    "st.write(\"Enter patient data. The model will predict the likelihood of heart disease.\")\n",
    "st.sidebar.info(f\"Optimal model depth found: {model.best_params_['classifier__max_depth']}\")\n",
    "\n",
    "if submitted:\n",
    "    input_data = pd.DataFrame([{\n",
    "        'age': age, 'sex': sex, 'cp': cp, 'trestbps': trestbps, 'chol': chol, 'fbs': fbs,\n",
    "        'restecg': restecg, 'thalach': thalach, 'exang': exang, 'oldpeak': oldpeak,\n",
    "        'slope': slope, 'ca': ca, 'thal': thal\n",
    "    }])\n",
    "    ### YOUR CODE HERE ###\n",
    "    prediction = model.predict(input_data)\n",
    "    prob_disease = model.predict_proba(input_data)[0][1]\n",
    "\n",
    "    ######################\n",
    "\n",
    "    st.subheader(\"Prediction Result\")\n",
    "    if prob_disease > 0.5:\n",
    "        st.error(f\"**Disease Likely** — Probability: {prob_disease:.2%}\")\n",
    "    else:\n",
    "        st.success(f\"**Disease Unlikely** — Probability of No Disease: {(1-prob_disease):.2%}\")\n",
    "\n",
    "st.subheader(\"Model Decision Tree Visualization\")\n",
    "\n",
    "### YOUR CODE HERE ###\n",
    "classifier = model.best_estimator_.named_steps['classifier']\n",
    "feature_names = model.best_estimator_.named_steps['preprocessor'].get_feature_names_out()\n",
    "\n",
    "######################\n",
    "fig, ax = plt.subplots(figsize=(25, 12))\n",
    "plot_tree(classifier, feature_names=feature_names,\n",
    "          class_names=['No Disease', 'Disease'],\n",
    "          filled=True, rounded=True, ax=ax, fontsize=10)\n",
    "st.pyplot(fig)\n"
   ]
  },
  {
   "cell_type": "code",
   "execution_count": 12,
   "metadata": {
    "colab": {
     "base_uri": "https://localhost:8080/"
    },
    "executionInfo": {
     "elapsed": 13169,
     "status": "ok",
     "timestamp": 1758259407514,
     "user": {
      "displayName": "AIO",
      "userId": "08245194604912763444"
     },
     "user_tz": -420
    },
    "id": "X_N9eR8NDDjH",
    "outputId": "3deaad69-2853-42ae-80e1-7358382d6e5e"
   },
   "outputs": [
    {
     "name": "stderr",
     "output_type": "stream",
     "text": [
      "'wget' is not recognized as an internal or external command,\n",
      "operable program or batch file.\n",
      "'chmod' is not recognized as an internal or external command,\n",
      "operable program or batch file.\n"
     ]
    }
   ],
   "source": [
    "!pip -q install streamlit\n",
    "!wget -q https://github.com/cloudflare/cloudflared/releases/latest/download/cloudflared-linux-amd64 -O cloudflared\n",
    "!chmod +x cloudflared"
   ]
  },
  {
   "cell_type": "code",
   "execution_count": 13,
   "metadata": {
    "id": "gqKBBJMUTInp"
   },
   "outputs": [
    {
     "ename": "OSError",
     "evalue": "Background processes not supported.",
     "output_type": "error",
     "traceback": [
      "\u001b[31m---------------------------------------------------------------------------\u001b[39m",
      "\u001b[31mOSError\u001b[39m                                   Traceback (most recent call last)",
      "\u001b[36mCell\u001b[39m\u001b[36m \u001b[39m\u001b[32mIn[13]\u001b[39m\u001b[32m, line 1\u001b[39m\n\u001b[32m----> \u001b[39m\u001b[32m1\u001b[39m \u001b[43mget_ipython\u001b[49m\u001b[43m(\u001b[49m\u001b[43m)\u001b[49m\u001b[43m.\u001b[49m\u001b[43msystem\u001b[49m\u001b[43m(\u001b[49m\u001b[33;43m'\u001b[39;49m\u001b[33;43mstreamlit run app.py    --server.port 8501    --server.address 0.0.0.0    --server.headless true    --server.enableCORS false    --server.enableXsrfProtection false &>/content/logs.txt &\u001b[39;49m\u001b[33;43m'\u001b[39;49m\u001b[43m)\u001b[49m\n",
      "\u001b[36mFile \u001b[39m\u001b[32m~\\AppData\\Local\\Packages\\PythonSoftwareFoundation.Python.3.11_qbz5n2kfra8p0\\LocalCache\\local-packages\\Python311\\site-packages\\ipykernel\\zmqshell.py:669\u001b[39m, in \u001b[36mZMQInteractiveShell.system_piped\u001b[39m\u001b[34m(self, cmd)\u001b[39m\n\u001b[32m    662\u001b[39m \u001b[38;5;28;01mif\u001b[39;00m cmd.rstrip().endswith(\u001b[33m\"\u001b[39m\u001b[33m&\u001b[39m\u001b[33m\"\u001b[39m):\n\u001b[32m    663\u001b[39m     \u001b[38;5;66;03m# this is *far* from a rigorous test\u001b[39;00m\n\u001b[32m    664\u001b[39m     \u001b[38;5;66;03m# We do not support backgrounding processes because we either use\u001b[39;00m\n\u001b[32m    665\u001b[39m     \u001b[38;5;66;03m# pexpect or pipes to read from.  Users can always just call\u001b[39;00m\n\u001b[32m    666\u001b[39m     \u001b[38;5;66;03m# os.system() or use ip.system=ip.system_raw\u001b[39;00m\n\u001b[32m    667\u001b[39m     \u001b[38;5;66;03m# if they really want a background process.\u001b[39;00m\n\u001b[32m    668\u001b[39m     msg = \u001b[33m\"\u001b[39m\u001b[33mBackground processes not supported.\u001b[39m\u001b[33m\"\u001b[39m\n\u001b[32m--> \u001b[39m\u001b[32m669\u001b[39m     \u001b[38;5;28;01mraise\u001b[39;00m \u001b[38;5;167;01mOSError\u001b[39;00m(msg)\n\u001b[32m    671\u001b[39m \u001b[38;5;66;03m# we explicitly do NOT return the subprocess status code, because\u001b[39;00m\n\u001b[32m    672\u001b[39m \u001b[38;5;66;03m# a non-None value would trigger :func:`sys.displayhook` calls.\u001b[39;00m\n\u001b[32m    673\u001b[39m \u001b[38;5;66;03m# Instead, we store the exit_code in user_ns.\u001b[39;00m\n\u001b[32m    674\u001b[39m \u001b[38;5;66;03m# Also, protect system call from UNC paths on Windows here too\u001b[39;00m\n\u001b[32m    675\u001b[39m \u001b[38;5;66;03m# as is done in InteractiveShell.system_raw\u001b[39;00m\n\u001b[32m    676\u001b[39m \u001b[38;5;28;01mif\u001b[39;00m sys.platform == \u001b[33m\"\u001b[39m\u001b[33mwin32\u001b[39m\u001b[33m\"\u001b[39m:\n",
      "\u001b[31mOSError\u001b[39m: Background processes not supported."
     ]
    }
   ],
   "source": [
    "!streamlit run app.py \\\n",
    "  --server.port 8501 \\\n",
    "  --server.address 0.0.0.0 \\\n",
    "  --server.headless true \\\n",
    "  --server.enableCORS false \\\n",
    "  --server.enableXsrfProtection false &>/content/logs.txt &"
   ]
  },
  {
   "cell_type": "code",
   "execution_count": null,
   "metadata": {
    "colab": {
     "base_uri": "https://localhost:8080/"
    },
    "executionInfo": {
     "elapsed": 4526921,
     "status": "ok",
     "timestamp": 1758263934546,
     "user": {
      "displayName": "AIO",
      "userId": "08245194604912763444"
     },
     "user_tz": -420
    },
    "id": "yiZATVw8TLEp",
    "outputId": "617dde7a-151e-4cb7-f86e-3c62be86ba73"
   },
   "outputs": [
    {
     "name": "stdout",
     "output_type": "stream",
     "text": [
      "\u001b[90m2025-09-19T05:23:29Z\u001b[0m \u001b[32mINF\u001b[0m Thank you for trying Cloudflare Tunnel. Doing so, without a Cloudflare account, is a quick way to experiment and try it out. However, be aware that these account-less Tunnels have no uptime guarantee, are subject to the Cloudflare Online Services Terms of Use (https://www.cloudflare.com/website-terms/), and Cloudflare reserves the right to investigate your use of Tunnels for violations of such terms. If you intend to use Tunnels in production you should use a pre-created named tunnel by following: https://developers.cloudflare.com/cloudflare-one/connections/connect-apps\n",
      "\u001b[90m2025-09-19T05:23:29Z\u001b[0m \u001b[32mINF\u001b[0m Requesting new quick Tunnel on trycloudflare.com...\n",
      "\u001b[90m2025-09-19T05:23:34Z\u001b[0m \u001b[32mINF\u001b[0m +--------------------------------------------------------------------------------------------+\n",
      "\u001b[90m2025-09-19T05:23:34Z\u001b[0m \u001b[32mINF\u001b[0m |  Your quick Tunnel has been created! Visit it at (it may take some time to be reachable):  |\n",
      "\u001b[90m2025-09-19T05:23:34Z\u001b[0m \u001b[32mINF\u001b[0m |  https://wines-waterproof-tampa-martin.trycloudflare.com                                   |\n",
      "\u001b[90m2025-09-19T05:23:34Z\u001b[0m \u001b[32mINF\u001b[0m +--------------------------------------------------------------------------------------------+\n",
      "\u001b[90m2025-09-19T05:23:34Z\u001b[0m \u001b[32mINF\u001b[0m Cannot determine default configuration path. No file [config.yml config.yaml] in [~/.cloudflared ~/.cloudflare-warp ~/cloudflare-warp /etc/cloudflared /usr/local/etc/cloudflared]\n",
      "\u001b[90m2025-09-19T05:23:34Z\u001b[0m \u001b[32mINF\u001b[0m Version 2025.9.0 (Checksum 4f48c9fc205ed7d200a35f24170e795171189b77a696e3f8b5704d07a6801957)\n",
      "\u001b[90m2025-09-19T05:23:34Z\u001b[0m \u001b[32mINF\u001b[0m GOOS: linux, GOVersion: go1.24.4, GoArch: amd64\n",
      "\u001b[90m2025-09-19T05:23:34Z\u001b[0m \u001b[32mINF\u001b[0m Settings: map[ha-connections:1 no-autoupdate:true protocol:quic url:http://localhost:8501]\n",
      "\u001b[90m2025-09-19T05:23:34Z\u001b[0m \u001b[32mINF\u001b[0m cloudflared will not automatically update when run from the shell. To enable auto-updates, run cloudflared as a service: https://developers.cloudflare.com/cloudflare-one/connections/connect-apps/configure-tunnels/local-management/as-a-service/\n",
      "\u001b[90m2025-09-19T05:23:34Z\u001b[0m \u001b[32mINF\u001b[0m Generated Connector ID: 2aa8af23-be51-41de-8fff-abb190609bfd\n",
      "\u001b[90m2025-09-19T05:23:34Z\u001b[0m \u001b[32mINF\u001b[0m Initial protocol quic\n",
      "\u001b[90m2025-09-19T05:23:34Z\u001b[0m \u001b[32mINF\u001b[0m ICMP proxy will use 172.28.0.12 as source for IPv4\n",
      "\u001b[90m2025-09-19T05:23:34Z\u001b[0m \u001b[32mINF\u001b[0m ICMP proxy will use :: as source for IPv6\n",
      "\u001b[90m2025-09-19T05:23:34Z\u001b[0m \u001b[1m\u001b[31mERR\u001b[0m\u001b[0m Cannot determine default origin certificate path. No file cert.pem in [~/.cloudflared ~/.cloudflare-warp ~/cloudflare-warp /etc/cloudflared /usr/local/etc/cloudflared]. You need to specify the origin certificate path by specifying the origincert option in the configuration file, or set TUNNEL_ORIGIN_CERT environment variable \u001b[36moriginCertPath=\u001b[0m\n",
      "\u001b[90m2025-09-19T05:23:34Z\u001b[0m \u001b[32mINF\u001b[0m ICMP proxy will use 172.28.0.12 as source for IPv4\n",
      "\u001b[90m2025-09-19T05:23:34Z\u001b[0m \u001b[32mINF\u001b[0m ICMP proxy will use :: as source for IPv6\n",
      "\u001b[90m2025-09-19T05:23:34Z\u001b[0m \u001b[32mINF\u001b[0m Starting metrics server on 127.0.0.1:20241/metrics\n",
      "\u001b[90m2025-09-19T05:23:34Z\u001b[0m \u001b[32mINF\u001b[0m Tunnel connection curve preferences: [X25519MLKEM768 CurveP256] \u001b[36mconnIndex=\u001b[0m0 \u001b[36mevent=\u001b[0m0 \u001b[36mip=\u001b[0m198.41.192.107\n",
      "2025/09/19 05:23:34 failed to sufficiently increase receive buffer size (was: 208 kiB, wanted: 7168 kiB, got: 416 kiB). See https://github.com/quic-go/quic-go/wiki/UDP-Buffer-Sizes for details.\n",
      "\u001b[90m2025-09-19T05:23:34Z\u001b[0m \u001b[32mINF\u001b[0m Registered tunnel connection \u001b[36mconnIndex=\u001b[0m0 \u001b[36mconnection=\u001b[0ma73e268e-7aab-4ad0-bc9f-bb512aa2a749 \u001b[36mevent=\u001b[0m0 \u001b[36mip=\u001b[0m198.41.192.107 \u001b[36mlocation=\u001b[0matl01 \u001b[36mprotocol=\u001b[0mquic\n",
      "\u001b[90m2025-09-19T06:38:55Z\u001b[0m \u001b[32mINF\u001b[0m Initiating graceful shutdown due to signal interrupt ...\n",
      "^C\n"
     ]
    }
   ],
   "source": [
    "!./cloudflared tunnel --url http://localhost:8501 --no-autoupdate"
   ]
  }
 ],
 "metadata": {
  "colab": {
   "provenance": []
  },
  "kernelspec": {
   "display_name": "Python 3",
   "name": "python3"
  },
  "language_info": {
   "codemirror_mode": {
    "name": "ipython",
    "version": 3
   },
   "file_extension": ".py",
   "mimetype": "text/x-python",
   "name": "python",
   "nbconvert_exporter": "python",
   "pygments_lexer": "ipython3",
   "version": "3.11.9"
  }
 },
 "nbformat": 4,
 "nbformat_minor": 0
}
